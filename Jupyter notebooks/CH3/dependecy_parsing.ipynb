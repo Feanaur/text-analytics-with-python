{
 "cells": [
  {
   "cell_type": "markdown",
   "metadata": {},
   "source": [
    "### Dependency parsing"
   ]
  },
  {
   "cell_type": "code",
   "execution_count": 12,
   "metadata": {},
   "outputs": [
    {
     "name": "stdout",
     "output_type": "stream",
     "text": [
      "['The', 'brown', 'fox', 'is', 'quick', 'and', 'he', 'is', 'jumping', 'over', 'the', 'lazy', 'dog']\n"
     ]
    }
   ],
   "source": [
    "import spacy\n",
    "import nltk\n",
    "sentence = 'The brown fox is quick and he is jumping over the lazy dog'\n",
    "\n",
    "parser = spacy.load('en')\n",
    "parsed_sent = parser(sentence)\n",
    "tokens = nltk.word_tokenize(sentence)\n",
    "\n",
    "print(tokens)"
   ]
  },
  {
   "cell_type": "code",
   "execution_count": 13,
   "metadata": {},
   "outputs": [
    {
     "name": "stdout",
     "output_type": "stream",
     "text": [
      "[]<---The[det]--->[]\n",
      "--------\n",
      "[]<---brown[amod]--->[]\n",
      "--------\n",
      "['The', 'brown']<---fox[nsubj]--->[]\n",
      "--------\n",
      "['fox']<---is[ROOT]--->['quick', 'and', 'jumping']\n",
      "--------\n",
      "[]<---quick[acomp]--->[]\n",
      "--------\n",
      "[]<---and[cc]--->[]\n",
      "--------\n",
      "[]<---he[nsubj]--->[]\n",
      "--------\n",
      "[]<---is[aux]--->[]\n",
      "--------\n",
      "['he', 'is']<---jumping[conj]--->['over']\n",
      "--------\n",
      "[]<---over[prep]--->['dog']\n",
      "--------\n",
      "[]<---the[det]--->[]\n",
      "--------\n",
      "[]<---lazy[amod]--->[]\n",
      "--------\n",
      "['the', 'lazy']<---dog[pobj]--->[]\n",
      "--------\n"
     ]
    }
   ],
   "source": [
    "dependency_pattern = '{left}<---{word}[{w_type}]--->{right}\\n--------'\n",
    "for token in parsed_sent:\n",
    "    print(\n",
    "        dependency_pattern.format(\n",
    "            word=token.orth_, \n",
    "            w_type=token.dep_,\n",
    "            left=[t.orth_ for t in token.lefts],\n",
    "            right=[t.orth_ for t in token.rights])\n",
    "    )\n"
   ]
  },
  {
   "cell_type": "code",
   "execution_count": 15,
   "metadata": {},
   "outputs": [
    {
     "name": "stdout",
     "output_type": "stream",
     "text": [
      "Dependency grammar with 12 productions\n",
      "  'fox' -> 'The'\n",
      "  'fox' -> 'brown'\n",
      "  'quick' -> 'fox'\n",
      "  'quick' -> 'is'\n",
      "  'quick' -> 'and'\n",
      "  'quick' -> 'jumping'\n",
      "  'jumping' -> 'he'\n",
      "  'jumping' -> 'is'\n",
      "  'jumping' -> 'dog'\n",
      "  'dog' -> 'over'\n",
      "  'dog' -> 'the'\n",
      "  'dog' -> 'lazy'\n",
      "(quick (fox The brown) is and (jumping he is (dog over the lazy)))\n"
     ]
    }
   ],
   "source": [
    "dependency_rules = \"\"\"\n",
    "'fox' -> 'The' | 'brown'\n",
    "'quick' -> 'fox' | 'is' | 'and' | 'jumping'\n",
    "'jumping' -> 'he' | 'is' | 'dog'\n",
    "'dog' -> 'over' | 'the' | 'lazy'\n",
    "\"\"\"\n",
    "\n",
    "dependency_grammar = nltk.grammar.DependencyGrammar.fromstring(dependency_rules)\n",
    "print(dependency_grammar)\n",
    "\n",
    "dp = nltk.ProjectiveDependencyParser(dependency_grammar)\n",
    "res = [item for item in dp.parse(tokens)]\n",
    "tree = res[0] \n",
    "print(tree)\n",
    "\n",
    "tree.draw()                          "
   ]
  },
  {
   "cell_type": "markdown",
   "metadata": {},
   "source": [
    "![Tree](img/CH3_dep_parsing.png)"
   ]
  }
 ],
 "metadata": {
  "kernelspec": {
   "display_name": "Python 3",
   "language": "python",
   "name": "python3"
  },
  "language_info": {
   "codemirror_mode": {
    "name": "ipython",
    "version": 3
   },
   "file_extension": ".py",
   "mimetype": "text/x-python",
   "name": "python",
   "nbconvert_exporter": "python",
   "pygments_lexer": "ipython3",
   "version": "3.5.2"
  }
 },
 "nbformat": 4,
 "nbformat_minor": 2
}
