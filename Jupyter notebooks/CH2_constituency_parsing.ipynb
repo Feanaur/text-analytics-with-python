{
 "cells": [
  {
   "cell_type": "code",
   "execution_count": 1,
   "metadata": {
    "scrolled": true
   },
   "outputs": [
    {
     "name": "stdout",
     "output_type": "stream",
     "text": [
      "[nltk_data] Downloading package treebank to\n",
      "[nltk_data]     /home/distillery/nltk_data...\n",
      "[nltk_data]   Package treebank is already up-to-date!\n",
      "(S\n",
      "  (NP-SBJ (NNP Mr.) (NNP Vinken))\n",
      "  (VP\n",
      "    (VBZ is)\n",
      "    (NP-PRD\n",
      "      (NP (NN chairman))\n",
      "      (PP\n",
      "        (IN of)\n",
      "        (NP\n",
      "          (NP (NNP Elsevier) (NNP N.V.))\n",
      "          (, ,)\n",
      "          (NP (DT the) (NNP Dutch) (VBG publishing) (NN group))))))\n",
      "  (. .))\n"
     ]
    }
   ],
   "source": [
    "import nltk\n",
    "from nltk.grammar import Nonterminal\n",
    "from nltk.corpus import treebank\n",
    "nltk.download('treebank')\n",
    "training_set = treebank.parsed_sents()\n",
    "print(training_set[1])"
   ]
  },
  {
   "cell_type": "markdown",
   "metadata": {},
   "source": [
    "##### Extract the productions for all annotated training sentences"
   ]
  },
  {
   "cell_type": "code",
   "execution_count": 2,
   "metadata": {},
   "outputs": [
    {
     "data": {
      "text/plain": [
       "[SINV -> VP-TPC-1 VP NP-SBJ-2 .,\n",
       " CD -> '454',\n",
       " NP -> DT NNP JJ NN,\n",
       " NNP -> 'Byron',\n",
       " CD -> '2163.2',\n",
       " NP-SBJ-4 -> DT NN NNS,\n",
       " JJ -> 'consonant',\n",
       " ADVP -> RBR,\n",
       " VP -> VBG PP-CLR PP-CLR,\n",
       " S -> S-ADV , NP-SBJ-64 VP .]"
      ]
     },
     "execution_count": 2,
     "metadata": {},
     "output_type": "execute_result"
    }
   ],
   "source": [
    "treebank_productions = list(\n",
    "    set(production for sent in training_set for production in sent.productions())\n",
    ")\n",
    "\n",
    "treebank_productions[0:10]"
   ]
  },
  {
   "cell_type": "markdown",
   "metadata": {},
   "source": [
    "##### Add productions for each word, POS tag"
   ]
  },
  {
   "cell_type": "code",
   "execution_count": 3,
   "metadata": {},
   "outputs": [],
   "source": [
    "for word, tag in treebank.tagged_words():\n",
    "    t = nltk.Tree.fromstring(\"(\" + tag + \" \" + word + \")\")\n",
    "    for production in t.productions():\n",
    "        treebank_productions.append(production)"
   ]
  },
  {
   "cell_type": "markdown",
   "metadata": {},
   "source": [
    "##### Build the PCFG based grammar and the parser"
   ]
  },
  {
   "cell_type": "code",
   "execution_count": 4,
   "metadata": {},
   "outputs": [],
   "source": [
    "treebank_grammar = nltk.grammar.induce_pcfg(\n",
    "    Nonterminal('S'),\n",
    "    treebank_productions\n",
    ")\n",
    "\n",
    "viterbi_parser = nltk.ViterbiParser(treebank_grammar)"
   ]
  },
  {
   "cell_type": "markdown",
   "metadata": {},
   "source": [
    "##### Get sample sentence tokens and parse tree for sample sentence"
   ]
  },
  {
   "cell_type": "code",
   "execution_count": 5,
   "metadata": {},
   "outputs": [],
   "source": [
    "sentence = 'The car is quick and it is jumping over the sleeping tree'\n",
    "tokens = nltk.word_tokenize(sentence)\n",
    "result = list(viterbi_parser.parse(tokens))"
   ]
  },
  {
   "cell_type": "markdown",
   "metadata": {},
   "source": [
    "##### Get parse tree for sample sentence"
   ]
  },
  {
   "cell_type": "code",
   "execution_count": 6,
   "metadata": {
    "scrolled": false
   },
   "outputs": [
    {
     "name": "stdout",
     "output_type": "stream",
     "text": [
      "(S\n",
      "  (NP-SBJ-99 (DT The) (NN car))\n",
      "  (VP\n",
      "    (VBZ is)\n",
      "    (PRT (JJ quick))\n",
      "    (S\n",
      "      (CC and)\n",
      "      (NP-SBJ (PRP it))\n",
      "      (VP\n",
      "        (VBZ is)\n",
      "        (ADJP-PRD (VBG jumping))\n",
      "        (PP-2\n",
      "          (IN over)\n",
      "          (NP (DT the) (VBG sleeping) (NN tree))))))) (p=1.62473e-43)\n"
     ]
    }
   ],
   "source": [
    "result = list(viterbi_parser.parse(tokens))\n",
    "print(result[0])\n",
    "result[0].draw()"
   ]
  }
 ],
 "metadata": {
  "kernelspec": {
   "display_name": "Python 3",
   "language": "python",
   "name": "python3"
  },
  "language_info": {
   "codemirror_mode": {
    "name": "ipython",
    "version": 3
   },
   "file_extension": ".py",
   "mimetype": "text/x-python",
   "name": "python",
   "nbconvert_exporter": "python",
   "pygments_lexer": "ipython3",
   "version": "3.5.2"
  }
 },
 "nbformat": 4,
 "nbformat_minor": 2
}
