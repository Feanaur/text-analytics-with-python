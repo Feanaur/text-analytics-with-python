{
 "cells": [
  {
   "cell_type": "code",
   "execution_count": 1,
   "metadata": {},
   "outputs": [],
   "source": [
    "from normalization import normalize_corpus, parse_document\n",
    "from utils import build_feature_matrix, low_rank_svd\n",
    "import numpy as np\n",
    "\n",
    "toy_text = \"\"\"\n",
    "Elephants are large mammals of the family Elephantidae \n",
    "and the order Proboscidea. Two species are traditionally recognised, \n",
    "the African elephant and the Asian elephant. Elephants are scattered \n",
    "throughout sub-Saharan Africa, South Asia, and Southeast Asia. Male \n",
    "African elephants are the largest extant terrestrial animals. All \n",
    "elephants have a long trunk used for many purposes, \n",
    "particularly breathing, lifting water and grasping objects. Their \n",
    "incisors grow into tusks, which can serve as weapons and as tools \n",
    "for moving objects and digging. Elephants' large ear flaps help \n",
    "to control their body temperature. Their pillar-like legs can \n",
    "carry their great weight. African elephants have larger ears \n",
    "and concave backs while Asian elephants have smaller ears \n",
    "and convex or level backs.  \n",
    "\"\"\""
   ]
  },
  {
   "cell_type": "code",
   "execution_count": 2,
   "metadata": {},
   "outputs": [
    {
     "name": "stdout",
     "output_type": "stream",
     "text": [
      "Elephants are large mammals of the family Elephantidae  and the order Proboscidea.\n",
      "Two species are traditionally recognised,  the African elephant and the Asian elephant.\n",
      "African elephants have larger ears  and concave backs while Asian elephants have smaller ears  and convex or level backs.\n",
      "Total Sentences in Document: 9\n"
     ]
    }
   ],
   "source": [
    "from gensim.summarization import summarize, keywords\n",
    "\n",
    "def text_summarization_gensim(text, summary_ratio=0.5):\n",
    "    \n",
    "    summary = summarize(text, split=True, ratio=summary_ratio)\n",
    "    for sentence in summary:\n",
    "        print(sentence)\n",
    "\n",
    "docs = parse_document(toy_text)\n",
    "text = ' '.join(docs)\n",
    "text_summarization_gensim(text, summary_ratio=0.4)\n",
    "\n",
    "\n",
    "    \n",
    "sentences = parse_document(toy_text)\n",
    "norm_sentences = normalize_corpus(sentences,lemmatize=False) \n",
    "\n",
    "total_sentences = len(norm_sentences)\n",
    "print('Total Sentences in Document:', total_sentences)   "
   ]
  },
  {
   "cell_type": "code",
   "execution_count": 3,
   "metadata": {},
   "outputs": [
    {
     "name": "stdout",
     "output_type": "stream",
     "text": [
      "[2.02 2.07 1.53 1.4  2.1  4.48 0.7  1.2  4.65]\n"
     ]
    }
   ],
   "source": [
    "num_sentences = 3\n",
    "num_topics = 2\n",
    "\n",
    "vec, dt_matrix = build_feature_matrix(sentences, \n",
    "                                      feature_type='frequency')\n",
    "\n",
    "td_matrix = dt_matrix.transpose()\n",
    "td_matrix = td_matrix.multiply(td_matrix > 0)\n",
    "\n",
    "u, s, vt = low_rank_svd(td_matrix, singular_count=num_topics)  \n",
    "                                         \n",
    "sv_threshold = 0.5\n",
    "min_sigma_value = max(s) * sv_threshold\n",
    "s[s < min_sigma_value] = 0\n",
    "\n",
    "salience_scores = np.sqrt(np.dot(np.square(s), np.square(vt)))\n",
    "print(np.round(salience_scores, 2))"
   ]
  },
  {
   "cell_type": "code",
   "execution_count": 4,
   "metadata": {},
   "outputs": [
    {
     "name": "stdout",
     "output_type": "stream",
     "text": [
      "[4 5 8]\n"
     ]
    }
   ],
   "source": [
    "top_sentence_indices = salience_scores.argsort()[-num_sentences:][::-1]\n",
    "top_sentence_indices.sort()\n",
    "print(top_sentence_indices)"
   ]
  },
  {
   "cell_type": "code",
   "execution_count": 5,
   "metadata": {},
   "outputs": [
    {
     "name": "stdout",
     "output_type": "stream",
     "text": [
      "All  elephants have a long trunk used for many purposes,  particularly breathing, lifting water and grasping objects.\n",
      "Their  incisors grow into tusks, which can serve as weapons and as tools  for moving objects and digging.\n",
      "African elephants have larger ears  and concave backs while Asian elephants have smaller ears  and convex or level backs.\n"
     ]
    }
   ],
   "source": [
    "for index in top_sentence_indices:\n",
    "    print(sentences[index])"
   ]
  },
  {
   "cell_type": "code",
   "execution_count": 8,
   "metadata": {},
   "outputs": [],
   "source": [
    "def lsa_text_summarizer(documents, num_sentences=2,\n",
    "                        num_topics=2, feature_type='frequency',\n",
    "                        sv_threshold=0.5):\n",
    "                            \n",
    "    vec, dt_matrix = build_feature_matrix(documents, \n",
    "                                          feature_type=feature_type)\n",
    "\n",
    "    td_matrix = dt_matrix.transpose()\n",
    "    td_matrix = td_matrix.multiply(td_matrix > 0)\n",
    "\n",
    "    u, s, vt = low_rank_svd(td_matrix, singular_count=num_topics)  \n",
    "    min_sigma_value = max(s) * sv_threshold\n",
    "    s[s < min_sigma_value] = 0\n",
    "    \n",
    "    salience_scores = np.sqrt(np.dot(np.square(s), np.square(vt)))\n",
    "    top_sentence_indices = salience_scores.argsort()[-num_sentences:][::-1]\n",
    "    top_sentence_indices.sort()\n",
    "    \n",
    "    for index in top_sentence_indices:\n",
    "        print(sentences[index])"
   ]
  },
  {
   "cell_type": "code",
   "execution_count": 14,
   "metadata": {},
   "outputs": [
    {
     "name": "stdout",
     "output_type": "stream",
     "text": [
      "[[1.   0.   0.03 0.05 0.03 0.   0.15 0.   0.06]\n",
      " [0.   1.   0.   0.07 0.   0.   0.   0.   0.11]\n",
      " [0.03 0.   1.   0.03 0.02 0.   0.03 0.   0.04]\n",
      " [0.05 0.07 0.03 1.   0.03 0.   0.04 0.   0.11]\n",
      " [0.03 0.   0.02 0.03 1.   0.07 0.03 0.   0.04]\n",
      " [0.   0.   0.   0.   0.07 1.   0.   0.   0.  ]\n",
      " [0.15 0.   0.03 0.04 0.03 0.   1.   0.   0.05]\n",
      " [0.   0.   0.   0.   0.   0.   0.   1.   0.  ]\n",
      " [0.06 0.11 0.04 0.11 0.04 0.   0.05 0.   1.  ]]\n",
      "[0, 3, 8]\n",
      "Elephants are large mammals of the family Elephantidae  and the order Proboscidea.\n",
      "Male  African elephants are the largest extant terrestrial animals.\n",
      "African elephants have larger ears  and concave backs while Asian elephants have smaller ears  and convex or level backs.\n"
     ]
    },
    {
     "data": {
      "image/png": "[encoded data removed]",
      "text/plain": [
       "<Figure size 432x288 with 1 Axes>"
      ]
     },
     "metadata": {
      "needs_background": "light"
     },
     "output_type": "display_data"
    }
   ],
   "source": [
    "import networkx\n",
    "\n",
    "num_sentences = 3\n",
    "vec, dt_matrix = build_feature_matrix(norm_sentences, \n",
    "                                      feature_type='tfidf')\n",
    "similarity_matrix = (dt_matrix * dt_matrix.T)\n",
    "print(np.round(similarity_matrix.todense(), 2))\n",
    "\n",
    "similarity_graph = networkx.from_scipy_sparse_matrix(similarity_matrix)\n",
    "\n",
    "networkx.draw_networkx(similarity_graph)\n",
    "\n",
    "scores = networkx.pagerank(similarity_graph)\n",
    "\n",
    "ranked_sentences = sorted(((score, index) \n",
    "                            for index, score \n",
    "                            in scores.items()), \n",
    "                          reverse=True)\n",
    "ranked_sentences\n",
    "\n",
    "top_sentence_indices = [ranked_sentences[index][1] \n",
    "                        for index in range(num_sentences)]\n",
    "top_sentence_indices.sort()\n",
    "print(top_sentence_indices)\n",
    "\n",
    "for index in top_sentence_indices:\n",
    "    print(sentences[index])\n",
    "    \n"
   ]
  },
  {
   "cell_type": "code",
   "execution_count": 18,
   "metadata": {},
   "outputs": [
    {
     "name": "stdout",
     "output_type": "stream",
     "text": [
      "Total Sentences: 13\n"
     ]
    }
   ],
   "source": [
    "def textrank_text_summarizer(documents, num_sentences=2,\n",
    "                             feature_type='frequency'):\n",
    "    \n",
    "    vec, dt_matrix = build_feature_matrix(norm_sentences, \n",
    "                                      feature_type='tfidf')\n",
    "    similarity_matrix = (dt_matrix * dt_matrix.T)\n",
    "        \n",
    "    similarity_graph = networkx.from_scipy_sparse_matrix(similarity_matrix)\n",
    "    scores = networkx.pagerank(similarity_graph)   \n",
    "    \n",
    "    ranked_sentences = sorted(((score, index) \n",
    "                                for index, score \n",
    "                                in scores.items()), \n",
    "                              reverse=True)\n",
    "\n",
    "    top_sentence_indices = [ranked_sentences[index][1] \n",
    "                            for index in range(num_sentences)]\n",
    "    top_sentence_indices.sort()\n",
    "    \n",
    "    for index in top_sentence_indices:\n",
    "        print(sentences[index])      \n",
    "        \n",
    "\n",
    "DOCUMENT = \"\"\"\n",
    "The Elder Scrolls V: Skyrim is an open world action role-playing video game \n",
    "developed by Bethesda Game Studios and published by Bethesda Softworks. \n",
    "It is the fifth installment in The Elder Scrolls series, following \n",
    "The Elder Scrolls IV: Oblivion. Skyrim's main story revolves around \n",
    "the player character and their effort to defeat Alduin the World-Eater, \n",
    "a dragon who is prophesied to destroy the world. \n",
    "The game is set two hundred years after the events of Oblivion \n",
    "and takes place in the fictional province of Skyrim. The player completes quests \n",
    "and develops the character by improving skills. \n",
    "Skyrim continues the open world tradition of its predecessors by allowing the \n",
    "player to travel anywhere in the game world at any time, and to \n",
    "ignore or postpone the main storyline indefinitely. The player may freely roam \n",
    "over the land of Skyrim, which is an open world environment consisting \n",
    "of wilderness expanses, dungeons, cities, towns, fortresses and villages. \n",
    "Players may navigate the game world more quickly by riding horses, \n",
    "or by utilizing a fast-travel system which allows them to warp to previously \n",
    "Players have the option to develop their character. At the beginning of the game, \n",
    "players create their character by selecting one of several races, \n",
    "including humans, orcs, elves and anthropomorphic cat or lizard-like creatures, \n",
    "and then customizing their character's appearance.discovered locations. Over the \n",
    "course of the game, players improve their character's skills, which are numerical \n",
    "representations of their ability in certain areas. There are eighteen skills \n",
    "divided evenly among the three schools of combat, magic, and stealth. \n",
    "Skyrim is the first entry in The Elder Scrolls to include Dragons in the game's \n",
    "wilderness. Like other creatures, Dragons are generated randomly in the world \n",
    "and will engage in combat. \n",
    "\"\"\"\n",
    "\n",
    "\n",
    "sentences = parse_document(DOCUMENT)\n",
    "norm_sentences = normalize_corpus(sentences,lemmatize=True) \n",
    "print(\"Total Sentences:\", len(norm_sentences)) \n",
    "\n"
   ]
  },
  {
   "cell_type": "code",
   "execution_count": 19,
   "metadata": {},
   "outputs": [
    {
     "name": "stdout",
     "output_type": "stream",
     "text": [
      "The Elder Scrolls V: Skyrim is an open world action role-playing video game  developed by Bethesda Game Studios and published by Bethesda Softworks.\n",
      "Players may navigate the game world more quickly by riding horses,  or by utilizing a fast-travel system which allows them to warp to previously  Players have the option to develop their character.\n",
      "At the beginning of the game,  players create their character by selecting one of several races,  including humans, orcs, elves and anthropomorphic cat or lizard-like creatures,  and then customizing their character's appearance.discovered locations.\n"
     ]
    }
   ],
   "source": [
    "lsa_text_summarizer(norm_sentences, num_sentences=3,\n",
    "                    num_topics=5, feature_type='frequency',\n",
    "                    sv_threshold=0.5)  "
   ]
  },
  {
   "cell_type": "code",
   "execution_count": 20,
   "metadata": {},
   "outputs": [
    {
     "name": "stdout",
     "output_type": "stream",
     "text": [
      "The Elder Scrolls V: Skyrim is an open world action role-playing video game  developed by Bethesda Game Studios and published by Bethesda Softworks.\n",
      "Players may navigate the game world more quickly by riding horses,  or by utilizing a fast-travel system which allows them to warp to previously  Players have the option to develop their character.\n",
      "Skyrim is the first entry in The Elder Scrolls to include Dragons in the game's  wilderness.\n"
     ]
    }
   ],
   "source": [
    "textrank_text_summarizer(norm_sentences, num_sentences=3,\n",
    "                         feature_type='tfidf')       "
   ]
  }
 ],
 "metadata": {
  "kernelspec": {
   "display_name": "Python 3",
   "language": "python",
   "name": "python3"
  },
  "language_info": {
   "codemirror_mode": {
    "name": "ipython",
    "version": 3
   },
   "file_extension": ".py",
   "mimetype": "text/x-python",
   "name": "python",
   "nbconvert_exporter": "python",
   "pygments_lexer": "ipython3",
   "version": "3.5.2"
  }
 },
 "nbformat": 4,
 "nbformat_minor": 2
}
