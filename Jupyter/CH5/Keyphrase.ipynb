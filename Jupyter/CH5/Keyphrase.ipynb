{
 "cells": [
  {
   "cell_type": "code",
   "execution_count": 8,
   "metadata": {},
   "outputs": [
    {
     "name": "stdout",
     "output_type": "stream",
     "text": [
      "alice adventures wonderland lewis carroll 1865\n"
     ]
    }
   ],
   "source": [
    "from nltk.corpus import gutenberg\n",
    "from normalization import normalize_corpus\n",
    "import nltk\n",
    "from operator import itemgetter\n",
    "\n",
    "alice = gutenberg.sents(fileids='carroll-alice.txt')\n",
    "alice = [' '.join(ts) for ts in alice]\n",
    "norm_alice = list(filter(None, normalize_corpus(alice, lemmatize=False)))\n",
    "\n",
    "print(norm_alice[0])"
   ]
  },
  {
   "cell_type": "code",
   "execution_count": 14,
   "metadata": {},
   "outputs": [
    {
     "name": "stdout",
     "output_type": "stream",
     "text": [
      "[('said alice', 123), ('mock turtle', 56), ('march hare', 31), ('said king', 29), ('thought alice', 26), ('said hatter', 22), ('white rabbit', 22), ('said mock', 20), ('said gryphon', 18), ('said caterpillar', 18)]\n",
      "\n",
      "[('said mock turtle', 20), ('said march hare', 10), ('poor little thing', 6), ('certainly said alice', 5), ('march hare said', 5), ('white kid gloves', 5), ('mock turtle said', 5), ('little golden key', 5), ('beau ootiful soo', 4), ('said alice said', 4)]\n"
     ]
    }
   ],
   "source": [
    "def flatten_corpus(corpus):\n",
    "    return ' '.join([document.strip()\n",
    "                     for document in corpus])\n",
    "                         \n",
    "def compute_ngrams(sequence, n):\n",
    "    return zip(*[sequence[index:]\n",
    "                 for index in range(n)])\n",
    "\n",
    "\n",
    "def get_top_ngrams(corpus, ngram_val=1, limit=5):\n",
    "    corpus = flatten_corpus(corpus)\n",
    "    tokens = nltk.word_tokenize(corpus)\n",
    "\n",
    "    ngrams = compute_ngrams(tokens, ngram_val)\n",
    "    ngrams_freq_dist = nltk.FreqDist(ngrams)\n",
    "    sorted_ngrams_fd = sorted(ngrams_freq_dist.items(), \n",
    "                              key=itemgetter(1), reverse=True)\n",
    "    sorted_ngrams = sorted_ngrams_fd[0:limit]\n",
    "    sorted_ngrams = [(' '.join(text), freq) \n",
    "                     for text, freq in sorted_ngrams]\n",
    "    return sorted_ngrams\n",
    "\n",
    "\n",
    "print(get_top_ngrams(corpus=norm_alice, ngram_val=2, limit=10))\n",
    "print()\n",
    "print(get_top_ngrams(corpus=norm_alice, ngram_val=3, limit=10))"
   ]
  },
  {
   "cell_type": "code",
   "execution_count": 15,
   "metadata": {},
   "outputs": [
    {
     "name": "stdout",
     "output_type": "stream",
     "text": [
      "[('said', 'mock', 'turtle'), ('said', 'march', 'hare'), ('poor', 'little', 'thing'), ('little', 'golden', 'key'), ('march', 'hare', 'said'), ('mock', 'turtle', 'said'), ('white', 'kid', 'gloves'), ('beau', 'ootiful', 'soo'), ('certainly', 'said', 'alice'), ('might', 'well', 'say')]\n",
      "\n",
      "[('accustomed', 'usurpation', 'conquest'), ('adjourn', 'immediate', 'adoption'), ('adoption', 'energetic', 'remedies'), ('ancient', 'modern', 'seaography'), ('apple', 'roast', 'turkey'), ('arithmetic', 'ambition', 'distraction'), ('brother', 'latin', 'grammar'), ('canvas', 'bag', 'tied'), ('cherry', 'tart', 'custard'), ('circle', 'exact', 'shape')]\n"
     ]
    }
   ],
   "source": [
    "from nltk.collocations import BigramCollocationFinder\n",
    "from nltk.collocations import BigramAssocMeasures\n",
    "\n",
    "finder = BigramCollocationFinder.from_documents([item.split() \n",
    "                                                for item \n",
    "                                                in norm_alice])\n",
    "bigram_measures = BigramAssocMeasures()\n",
    "finder.nbest(bigram_measures.raw_freq, 10)\n",
    "finder.nbest(bigram_measures.pmi, 10)\n",
    "\n",
    "from nltk.collocations import TrigramCollocationFinder\n",
    "from nltk.collocations import TrigramAssocMeasures\n",
    "\n",
    "finder = TrigramCollocationFinder.from_documents([item.split() \n",
    "                                                for item \n",
    "                                                in norm_alice])\n",
    "trigram_measures = TrigramAssocMeasures()\n",
    "print(finder.nbest(trigram_measures.raw_freq, 10))\n",
    "print()\n",
    "print(finder.nbest(trigram_measures.pmi, 10))"
   ]
  },
  {
   "cell_type": "code",
   "execution_count": 33,
   "metadata": {},
   "outputs": [
    {
     "name": "stdout",
     "output_type": "stream",
     "text": [
      "[['elephants', 'large mammals', 'family elephantidae', 'order proboscidea'], ['species', 'african elephant', 'asian elephant'], ['elephants', 'sub-saharan africa', 'south asia', 'southeast asia'], ['male african elephants', 'extant terrestrial animals'], ['elephants', 'long trunk', 'many purposes', 'breathing', 'water', 'grasping objects'], ['incisors', 'tusks', 'weapons', 'tools', 'objects', 'digging'], ['elephants', 'large ear flaps', 'body temperature'], ['pillar-like legs', 'great weight'], ['african elephants', 'ears', 'backs', 'asian elephants', 'ears', 'convex', 'level backs']]\n"
     ]
    }
   ],
   "source": [
    "toy_text = \"\"\"\n",
    "Elephants are large mammals of the family Elephantidae \n",
    "and the order Proboscidea. Two species are traditionally recognised, \n",
    "the African elephant and the Asian elephant. Elephants are scattered \n",
    "throughout sub-Saharan Africa, South Asia, and Southeast Asia. Male \n",
    "African elephants are the largest extant terrestrial animals. All \n",
    "elephants have a long trunk used for many purposes, \n",
    "particularly breathing, lifting water and grasping objects. Their \n",
    "incisors grow into tusks, which can serve as weapons and as tools \n",
    "for moving objects and digging. Elephants' large ear flaps help \n",
    "to control their body temperature. Their pillar-like legs can \n",
    "carry their great weight. African elephants have larger ears \n",
    "and concave backs while Asian elephants have smaller ears \n",
    "and convex or level backs.  \n",
    "\"\"\"\n",
    "\n",
    "from normalization import parse_document\n",
    "import itertools\n",
    "import nltk\n",
    "from normalization import stopword_list\n",
    "from gensim import corpora, models\n",
    "\n",
    "\n",
    "def get_chunks(sentences, grammar = r'NP: {<DT>? <JJ>* <NN.*>+}'):\n",
    "    \n",
    "    all_chunks = []\n",
    "    chunker = nltk.chunk.regexp.RegexpParser(grammar)\n",
    "\n",
    "    for sentence in sentences:\n",
    "        \n",
    "        tagged_sents = nltk.pos_tag_sents(\n",
    "                            [nltk.word_tokenize(sentence)])\n",
    "        \n",
    "        chunks = [chunker.parse(tagged_sent) \n",
    "                  for tagged_sent in tagged_sents]\n",
    "        \n",
    "        wtc_sents = [nltk.chunk.tree2conlltags(chunk)\n",
    "                     for chunk in chunks]    \n",
    "         \n",
    "        flattened_chunks = list(\n",
    "                            itertools.chain.from_iterable(\n",
    "                                wtc_sent for wtc_sent in wtc_sents)\n",
    "                           )\n",
    "        \n",
    "        def check_chunk(wpc):\n",
    "            return wpc[2] != 'O'\n",
    "        valid_chunks_tagged = [(status, [wtc for wtc in chunk]) \n",
    "                        for status, chunk \n",
    "                        in itertools.groupby(flattened_chunks, \n",
    "                                             check_chunk)]\n",
    "\n",
    "        valid_chunks = [' '.join(word.lower() \n",
    "                                for word, tag, chunk \n",
    "                                in wtc_group \n",
    "                                    if word.lower() \n",
    "                                        not in stopword_list) \n",
    "                                    for status, wtc_group \n",
    "                                    in valid_chunks_tagged\n",
    "                                        if status]\n",
    "                                            \n",
    "        all_chunks.append(valid_chunks)\n",
    "    \n",
    "    return all_chunks\n",
    "    \n",
    "sentences = parse_document(toy_text)          \n",
    "valid_chunks = get_chunks(sentences)\n",
    "print(valid_chunks)"
   ]
  },
  {
   "cell_type": "code",
   "execution_count": 35,
   "metadata": {},
   "outputs": [
    {
     "name": "stdout",
     "output_type": "stream",
     "text": [
      "[('great weight', 0.707), ('male african elephants', 0.707), ('pillar-like legs', 0.707), ('extant terrestrial animals', 0.707), ('body temperature', 0.684), ('large ear flaps', 0.684), ('ears', 0.667), ('asian elephant', 0.577), ('species', 0.577), ('african elephant', 0.577)]\n",
      "[('first position', 1.0), ('apples', 1.0), ('little sisters', 1.0), ('cheap sort', 1.0), ('housemaid', 1.0), ('whiskers', 1.0), ('dunce', 1.0), ('sides', 1.0), ('chapter ix', 1.0), ('quick', 1.0)]\n"
     ]
    }
   ],
   "source": [
    "def get_tfidf_weighted_keyphrases(\n",
    "    sentences, \n",
    "    grammar=r'NP: {<DT>? <JJ>* <NN.*>+}',\n",
    "    top_n=10\n",
    "):\n",
    "    valid_chunks = get_chunks(sentences, grammar=grammar)\n",
    "\n",
    "    dictionary = corpora.Dictionary(valid_chunks)\n",
    "    corpus = [dictionary.doc2bow(chunk) for chunk in valid_chunks]\n",
    "\n",
    "    tfidf = models.TfidfModel(corpus)\n",
    "    corpus_tfidf = tfidf[corpus]\n",
    "\n",
    "    weighted_phrases = {dictionary.get(id): round(value,3) \n",
    "                        for doc in corpus_tfidf \n",
    "                        for id, value in doc}\n",
    "\n",
    "    weighted_phrases = sorted(weighted_phrases.items(), \n",
    "                              key=itemgetter(1), reverse=True)\n",
    "\n",
    "    return weighted_phrases[:top_n]\n",
    "\n",
    "print(get_tfidf_weighted_keyphrases(sentences, top_n=10))\n",
    "\n",
    "# try on other corpora!\n",
    "print(get_tfidf_weighted_keyphrases(alice, top_n=10))"
   ]
  }
 ],
 "metadata": {
  "kernelspec": {
   "display_name": "Python 3",
   "language": "python",
   "name": "python3"
  },
  "language_info": {
   "codemirror_mode": {
    "name": "ipython",
    "version": 3
   },
   "file_extension": ".py",
   "mimetype": "text/x-python",
   "name": "python",
   "nbconvert_exporter": "python",
   "pygments_lexer": "ipython3",
   "version": "3.5.2"
  }
 },
 "nbformat": 4,
 "nbformat_minor": 2
}
